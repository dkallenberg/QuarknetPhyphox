{
  "nbformat": 4,
  "nbformat_minor": 0,
  "metadata": {
    "colab": {
      "name": "Sliding Friction(G-Drive).ipynb",
      "provenance": []
    },
    "kernelspec": {
      "name": "python3",
      "display_name": "Python 3"
    }
  },
  "cells": [
    {
      "cell_type": "code",
      "metadata": {
        "id": "5OZO8rXLnIVq",
        "colab_type": "code",
        "colab": {}
      },
      "source": [
        "from google.colab import auth\n",
        "auth.authenticate_user()\n",
        "\n",
        "import gspread\n",
        "from oauth2client.client import GoogleCredentials\n",
        "\n",
        "import numpy as np\n",
        "import matplotlib as mpl\n",
        "import matplotlib.pyplot as plt\n",
        "import pandas as pd\n",
        "\n",
        "gc = gspread.authorize(GoogleCredentials.get_application_default())"
      ],
      "execution_count": 1,
      "outputs": []
    },
    {
      "cell_type": "code",
      "metadata": {
        "id": "agA8gqpxn2MF",
        "colab_type": "code",
        "colab": {
          "base_uri": "https://localhost:8080/",
          "height": 119
        },
        "outputId": "161c2287-2954-4582-c9d1-798bf36ca34e"
      },
      "source": [
        "worksheet = gc.open('Sliding Friction Data').sheet1\n",
        "rows = worksheet.get_all_values()\n",
        "data = pd.DataFrame.from_records(rows)\n",
        "header = data.iloc[0]\n",
        "data = data[1:]\n",
        "data.rename(columns = header)\n",
        "data = data.rename(columns={'Time (s)':'t', 'Acceleration x (m/s^2)':'ax', 'Acceleration y (m/s^2)':'ay', 'Acceleration z (m/s^2)':'az', 'Absolute acceleration (m/s^2)':'aa'})\n",
        "header.head(5)"
      ],
      "execution_count": 2,
      "outputs": [
        {
          "output_type": "execute_result",
          "data": {
            "text/plain": [
              "0                         Time (s)\n",
              "1           Acceleration x (m/s^2)\n",
              "2           Acceleration y (m/s^2)\n",
              "3           Acceleration z (m/s^2)\n",
              "4    Absolute acceleration (m/s^2)\n",
              "Name: 0, dtype: object"
            ]
          },
          "metadata": {
            "tags": []
          },
          "execution_count": 2
        }
      ]
    }
  ]
}