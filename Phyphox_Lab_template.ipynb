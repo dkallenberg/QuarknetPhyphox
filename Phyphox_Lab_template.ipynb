{
  "nbformat": 4,
  "nbformat_minor": 0,
  "metadata": {
    "colab": {
      "name": "Phyphox Lab template",
      "provenance": [],
      "include_colab_link": true
    },
    "kernelspec": {
      "name": "python3",
      "display_name": "Python 3"
    }
  },
  "cells": [
    {
      "cell_type": "markdown",
      "metadata": {
        "id": "view-in-github",
        "colab_type": "text"
      },
      "source": [
        "<a href=\"https://colab.research.google.com/github/dkallenberg/QuarknetPhyphox/blob/master/Phyphox_Lab_template.ipynb\" target=\"_parent\"><img src=\"https://colab.research.google.com/assets/colab-badge.svg\" alt=\"Open In Colab\"/></a>"
      ]
    },
    {
      "cell_type": "markdown",
      "metadata": {
        "id": "p0saIKuMb_Cj",
        "colab_type": "text"
      },
      "source": [
        "Phyphox phone orientation:\n",
        "\n",
        "![alt text](data:image/jpeg;base64,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)"
      ]
    },
    {
      "cell_type": "markdown",
      "metadata": {
        "id": "BChTfU1XNrgW",
        "colab_type": "text"
      },
      "source": [
        "Click play on the code snippet below to import code libraries and start the file upload. "
      ]
    },
    {
      "cell_type": "code",
      "metadata": {
        "id": "okQiWjmsIVt_",
        "colab_type": "code",
        "colab": {}
      },
      "source": [
        "import numpy as np\n",
        "import matplotlib as mpl\n",
        "import matplotlib.pyplot as plt\n",
        "import io\n",
        "import pandas as pd\n",
        "from google.colab import files\n",
        "\n",
        "uploaded = files.upload()"
      ],
      "execution_count": null,
      "outputs": []
    },
    {
      "cell_type": "markdown",
      "metadata": {
        "id": "9itd0PX2WiBj",
        "colab_type": "text"
      },
      "source": [
        "Change the file name in red below to match the name of the file you just uploaded. Before running the next snippet.\n",
        "\n",
        "\n",
        "\n",
        "```\n",
        "data = pd.read_csv(io.BytesIO(uploaded['FileYouUploaded.csv']))\n",
        "```\n",
        "This code reads your .csv file into a Pandas Dataframe, which is like a sheet in a spread sheet (Google Sheets/Excel).\n",
        "\n",
        "\n",
        "\n",
        "```\n",
        "data.head(10)\n",
        "```\n",
        "\n",
        "This code puts prints the headers (names of columns) and the number of rows entered into the parenthese.\n"
      ]
    },
    {
      "cell_type": "code",
      "metadata": {
        "id": "z_V24_tGSswl",
        "colab_type": "code",
        "colab": {}
      },
      "source": [
        "data = pd.read_csv(io.BytesIO(uploaded['FileYouUploaded.csv']))\n",
        "data.head(10)"
      ],
      "execution_count": null,
      "outputs": []
    },
    {
      "cell_type": "markdown",
      "metadata": {
        "id": "pCOM0E0-2WBn",
        "colab_type": "text"
      },
      "source": [
        "To make the rest of the code easier the names of the columns need to be changed. The format is 'Current Name':'New Name'. The new should be as short as possible and have no spaces. "
      ]
    },
    {
      "cell_type": "code",
      "metadata": {
        "id": "JcTYSpFJXf04",
        "colab_type": "code",
        "colab": {}
      },
      "source": [
        "data = data.rename(columns={'Time (s)':'t', 'Acceleration x (m/s^2)':'ax', 'Acceleration y (m/s^2)':'ay', 'Acceleration z (m/s^2)':'az', 'Absolute acceleration (m/s^2)':'aa'})\n",
        "data.head(5)"
      ],
      "execution_count": null,
      "outputs": []
    },
    {
      "cell_type": "markdown",
      "metadata": {
        "id": "3ZKlQJUk57Dg",
        "colab_type": "text"
      },
      "source": [
        "The code below gives statisical information about the input column."
      ]
    },
    {
      "cell_type": "code",
      "metadata": {
        "id": "k2PO9FqkjnsI",
        "colab_type": "code",
        "colab": {}
      },
      "source": [
        "data['aa'].describe()"
      ],
      "execution_count": null,
      "outputs": []
    },
    {
      "cell_type": "markdown",
      "metadata": {
        "id": "5KQbDFdY9Ior",
        "colab_type": "text"
      },
      "source": [
        "The code below plots two of the columns from the data array."
      ]
    },
    {
      "cell_type": "code",
      "metadata": {
        "id": "nFzXR9OReZts",
        "colab_type": "code",
        "colab": {}
      },
      "source": [
        "plt.plot(FrameName.ColumnName, FrameName.ColumnName)"
      ],
      "execution_count": null,
      "outputs": []
    }
  ]
}